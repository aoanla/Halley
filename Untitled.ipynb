{
 "cells": [
  {
   "cell_type": "code",
   "execution_count": 1,
   "id": "0f577b52-6914-4e09-965e-31cc20722249",
   "metadata": {},
   "outputs": [],
   "source": [
    "using StaticArrays\n",
    "using GLMakie\n",
    "Makie.inline!(false)\n",
    "using Dates\n",
    "using LinearAlgebra"
   ]
  },
  {
   "cell_type": "code",
   "execution_count": 32,
   "id": "26472674-404b-454d-9e5f-9c8aa9e9d209",
   "metadata": {},
   "outputs": [
    {
     "data": {
      "text/plain": [
       "(1.3512071919596575, -1.7024143839193153, 1.3512071919596575)"
      ]
     },
     "execution_count": 32,
     "metadata": {},
     "output_type": "execute_result"
    }
   ],
   "source": [
    "p = @MMatrix [  2.950832139557744e-3  -5.425470573959765e-3  -7.383386124694714e-5 ;\n",
    "                      -3.332497263005759 4.112363636591643 5.891307575840340e-2 ;\n",
    "                      -6.535507530500684 6.380917893848125 1.428260570382428e-1 ;\n",
    "                      2.510983241619308e-1 1.950982735843640e-1 -6.755395306466706e-3 ;\n",
    "                      -2.620890874732100e-1 -6.808075673769205e-1 6.655856110641488e-3 ;\n",
    "                      9.630524101520794e-1 -3.128557379506953e-1 -2.422339413846039e-4 ;\n",
    "                      9.612598229631927e-1 -3.112560037549189e-1 -2.786213887250675e-4 ;\n",
    "                      -4.415739460116890e-1 1.541057808775840 4.336870492890024e-2 ;\n",
    "                      1.718669476007500e1 9.933497426989296 -1.866007100527533e-1 ;\n",
    "                      2.615297960363933e1 -1.469969306823841e1 -2.995311280685409e-1 ;\n",
    "                      6.391931737411634e-1 -1.121186352054070e-1 1.870482953942138e-1 ; ]\n",
    "\n",
    "v = @MMatrix [ 6.838345177814781e-6 5.026348301755031e-6 -2.071993311542051e-7 ;\n",
    "                      -5.946882707429968e-3 -4.397581117062436e-3 1.511463721442163e-4 ; \n",
    "                      -4.208760152990489e-3 -4.000694588560874e-3 2.380878809848479e-4 ; \n",
    "                      -2.319387349809163e-2 2.314935923144703e-2 4.029155127823395e-3 ;\n",
    "                      1.869504930197275e-2 -7.474624825638375e-3 -1.179108325817677e-3 ;\n",
    "                      4.975052051056192e-3 1.633653719659161e-2 1.120657612318169e-5 ;\n",
    "                      4.561144105343879e-3 1.586231559918362e-2 6.830691822388147e-5 ;\n",
    "                      -1.288189187342671e-2 -2.690962310018411e-3 2.691923720938971e-4 ; \n",
    "                      -2.000317996107281e-3 3.225767036414139e-3 3.845761974599044e-5 ;\n",
    "                      1.517663638954640e-3 2.753873265004750e-3 -9.168067707913533e-5 ;\n",
    "                      -1.551860810762931e-2 -2.496616444169774e-2 4.202270253608422e-4 ; ]\n",
    "\n",
    "const Gm = @SVector [ i*2.22972472095e-15 for i in [ 132712440041.93938,126686531.900,37931206.234,22031.86855, 324858.592, 398600.435436, 4902.800066, 42828.375214, 5793951.256, 6835099.97,0.0]]\n",
    "\n",
    "a = MMatrix{11,3}(zeros(Float64, (11,3)))\n",
    "\n",
    "\n",
    "\n",
    "const w0::Float64 = -1.702414383919315268\n",
    "\n",
    "\n",
    "const w1::Float64 = 1.351207191959657634\n",
    "\n",
    "\n",
    "const c = (w1/2, (w0+w1)/2, (w0+w1)/2, w1/2)\n",
    "\n",
    "const d = (w1, w0, w1)\n"
   ]
  },
  {
   "cell_type": "code",
   "execution_count": 31,
   "id": "4f7e52b3-4f18-46bc-ae23-3f358e27b1df",
   "metadata": {},
   "outputs": [
    {
     "data": {
      "text/plain": [
       "accns! (generic function with 1 method)"
      ]
     },
     "execution_count": 31,
     "metadata": {},
     "output_type": "execute_result"
    }
   ],
   "source": [
    "function accns!(psn,Gm,acn) \n",
    "           a .= 0.0\n",
    "           d = @MVector [0.0,0.0,0.0]\n",
    "           lst = size(psn)[1]\n",
    "           for i in 1:lst\n",
    "               for j in i+1:lst\n",
    "                   d .= psn[i,:] .- psn[j,:]\n",
    "                   n::Float64 = d ⋅ d  #sum(d .^ 2)\n",
    "                   d ./= (n*sqrt(n))\n",
    "                   acn[j,:] .+= Gm[i]*d\n",
    "                   acn[i,:] .-= Gm[j]*d\n",
    "               end\n",
    "           end\n",
    "       end"
   ]
  },
  {
   "cell_type": "code",
   "execution_count": 4,
   "id": "108c9f73-2935-4c09-898b-73d25f142259",
   "metadata": {},
   "outputs": [
    {
     "data": {
      "text/plain": [
       "integrate! (generic function with 1 method)"
      ]
     },
     "execution_count": 4,
     "metadata": {},
     "output_type": "execute_result"
    }
   ],
   "source": [
    "function integrate!(posns, velocities, Gmasses, acns, accn::Function, dt)\n",
    "                  if !(size(posns) == size(velocities) )\n",
    "                      throw(ArgumentError(\"All vectors passed to integrate!() must have equal length\"))\n",
    "                  end\n",
    "                  for i in eachindex(d)\n",
    "                      posns .+= velocities .* (c[i] * dt)\n",
    "                      accn(posns,Gmasses,acns)\n",
    "                      velocities .+= acns .* (d[i] * dt)\n",
    "                  end\n",
    "                  posns .+= velocities .* (c[4] * dt)\n",
    "              end"
   ]
  },
  {
   "cell_type": "code",
   "execution_count": 26,
   "id": "d3b84086-52fc-4f91-a05e-583bb95d9d1b",
   "metadata": {},
   "outputs": [
    {
     "data": {
      "text/plain": [
       "sim (generic function with 1 method)"
      ]
     },
     "execution_count": 26,
     "metadata": {},
     "output_type": "execute_result"
    }
   ],
   "source": [
    "\n",
    "function sim(p,v,a,dt,max_t)\n",
    "           t = 0\n",
    "           startdate = Date(\"1682-07-31\")\n",
    "           #count = 0 #animation\n",
    "           lst = size(p)[1]\n",
    "           dist = sum( (p[lst,:] .- p[1,:]) .^ 2 )\n",
    "           olddist = dist\n",
    "           while t < max_t\n",
    "               oldolddist = olddist\n",
    "               olddist = dist\n",
    "               \n",
    "               integrate!(p,v,Gm,a,accns!, dt)\n",
    "               dist = sum( (p[lst,:] .- p[1,:]) .^ 2 )\n",
    "                   \n",
    "               if (oldolddist > olddist) && (dist > olddist)\n",
    "                   println(\"Perihelion at $t, \") #, startdate + Dates.Day(floor(Int,t)))\n",
    "               end\n",
    "        \n",
    "               #animation\n",
    "               #if count % 100 == 0\n",
    "               #    pts[] = p\n",
    "               #    sleep(1/60.0)\n",
    "               #end\n",
    "               #count += 1 #animation\n",
    "        \n",
    "               t += dt\n",
    "           end\n",
    "       end"
   ]
  },
  {
   "cell_type": "code",
   "execution_count": 6,
   "id": "3927f434-5950-40e2-b240-539835893806",
   "metadata": {},
   "outputs": [
    {
     "data": {
      "text/plain": [
       "Observable([0.002950832139557744 -0.005425470573959765 -7.383386124694714e-5; -3.332497263005759 4.112363636591643 0.0589130757584034; … ; 26.15297960363933 -14.69969306823841 -0.2995311280685409; 0.6391931737411634 -0.112118635205407 0.1870482953942138])\n"
      ]
     },
     "execution_count": 6,
     "metadata": {},
     "output_type": "execute_result"
    }
   ],
   "source": [
    "pts = Observable(p)"
   ]
  },
  {
   "cell_type": "code",
   "execution_count": 7,
   "id": "abae51a5-235e-4fa2-9305-1986de6c588a",
   "metadata": {},
   "outputs": [
    {
     "data": {
      "text/plain": [
       "GLMakie.Screen(...)"
      ]
     },
     "execution_count": 7,
     "metadata": {},
     "output_type": "execute_result"
    }
   ],
   "source": [
    "\n",
    "fig = Figure(resolution = (600,600))\n",
    "ax = LScene(fig[1,1], show_axis = true)\n",
    "meshscatter!(ax, pts, markersize = 0.3, color = [:red, :blue, :blue, :blue, :blue, :blue, :blue, :blue, :blue, :blue, :black]);\n",
    "#arrows!(ax, Vector(Point3f.(p[:,1],p[:,2],p[:,3])),60*Vector(Vec3f.(v[:,1],v[:,2],v[:,3])))\n",
    "zoom!(ax.scene, cameracontrols(ax.scene), 0.5)\n",
    "display(fig)\n"
   ]
  },
  {
   "cell_type": "code",
   "execution_count": 34,
   "id": "c8a6d2ec-c628-4058-b6e6-8df6d07b5793",
   "metadata": {},
   "outputs": [
    {
     "name": "stdout",
     "output_type": "stream",
     "text": [
      "Perihelion at 10060.400000019068, \n",
      "Perihelion at 37691.299999732015, \n",
      "Perihelion at 65205.39999933163, \n",
      "  0.905150 seconds (349 allocations: 24.781 KiB)\n"
     ]
    }
   ],
   "source": [
    "@time sim(p,v,a, 0.1, 365.25*200)"
   ]
  },
  {
   "cell_type": "code",
   "execution_count": null,
   "id": "91ee983f-3725-458f-b4d5-9bbffeef9ca1",
   "metadata": {},
   "outputs": [],
   "source": []
  }
 ],
 "metadata": {
  "@webio": {
   "lastCommId": "a9398845-e61c-4060-a6dd-29d11f07c28e",
   "lastKernelId": "f09d26f9-31f8-42f3-9e56-4bee19cecef4"
  },
  "kernelspec": {
   "display_name": "Julia 1.9.0",
   "language": "julia",
   "name": "julia-1.9"
  },
  "language_info": {
   "file_extension": ".jl",
   "mimetype": "application/julia",
   "name": "julia",
   "version": "1.9.0"
  }
 },
 "nbformat": 4,
 "nbformat_minor": 5
}
